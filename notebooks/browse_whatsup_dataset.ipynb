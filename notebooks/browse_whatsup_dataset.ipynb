{
 "cells": [
  {
   "cell_type": "markdown",
   "metadata": {},
   "source": [
    "# What's Up VLMs Dataset Browser\n",
    "\n",
    "This notebook helps browse and understand the Kamatha \"What's Up\" dataset with multiple subsets:\n",
    "- Visual Genome Q&A (one/two objects)\n",
    "- COCO Q&A (one/two objects) \n",
    "- Controlled images\n",
    "- Controlled CLEVR"
   ]
  },
  {
   "cell_type": "code",
   "execution_count": null,
   "metadata": {},
   "outputs": [],
   "source": [
    "import json\n",
    "import os\n",
    "from pathlib import Path\n",
    "import matplotlib.pyplot as plt\n",
    "from PIL import Image\n",
    "import random\n",
    "from collections import Counter\n",
    "import ipywidgets as widgets\n",
    "from IPython.display import display, clear_output"
   ]
  },
  {
   "cell_type": "markdown",
   "metadata": {},
   "source": [
    "## Configuration"
   ]
  },
  {
   "cell_type": "code",
   "execution_count": null,
   "metadata": {},
   "outputs": [],
   "source": [
    "# Base path on cluster\n",
    "BASE_PATH = Path(\"/leonardo_work/EUHPC_D27_102/compmech/whatsup_vlms_data/\")\n",
    "\n",
    "# Dataset configurations\n",
    "DATASETS = {\n",
    "    'vg_two_obj': {\n",
    "        'json': BASE_PATH / 'vg_qa_two_obj.json',\n",
    "        'images': BASE_PATH / 'vg_images',\n",
    "        'description': 'Visual Genome - Two objects (left/right)'\n",
    "    },\n",
    "    'vg_one_obj': {\n",
    "        'json': BASE_PATH / 'vg_qa_one_obj.json',\n",
    "        'images': BASE_PATH / 'vg_images',\n",
    "        'description': 'Visual Genome - One object (left/right)'\n",
    "    },\n",
    "    'controlled_images': {\n",
    "        'json': BASE_PATH / 'controlled_images_dataset.json',\n",
    "        'images': BASE_PATH / 'controlled_images',\n",
    "        'description': 'Controlled images - Two objects (left/right/up/down)'\n",
    "    },\n",
    "    'coco_two_obj': {\n",
    "        'json': BASE_PATH / 'coco_qa_two_obj.json',\n",
    "        'images': BASE_PATH / 'val2017',\n",
    "        'description': 'COCO - Two objects (up/down/left/right)'\n",
    "    },\n",
    "    'coco_one_obj': {\n",
    "        'json': BASE_PATH / 'coco_qa_one_obj.json',\n",
    "        'images': BASE_PATH / 'val2017',\n",
    "        'description': 'COCO - One object (up/down/left/right)'\n",
    "    },\n",
    "    'controlled_clevr': {\n",
    "        'json': BASE_PATH / 'controlled_clevr_dataset.json',\n",
    "        'images': BASE_PATH / 'controlled_clevr',\n",
    "        'description': 'Controlled CLEVR (front/behind/left/right)'\n",
    "    }\n",
    "}"
   ]
  },
  {
   "cell_type": "markdown",
   "metadata": {},
   "source": [
    "## Load Dataset"
   ]
  },
  {
   "cell_type": "code",
   "execution_count": null,
   "metadata": {},
   "outputs": [],
   "source": [
    "def load_dataset(dataset_key):\n",
    "    \"\"\"Load a specific dataset\"\"\"\n",
    "    config = DATASETS[dataset_key]\n",
    "    with open(config['json'], 'r') as f:\n",
    "        data = json.load(f)\n",
    "    return data, config\n",
    "\n",
    "def get_image_path(config, image_filename):\n",
    "    \"\"\"Get full path to image\"\"\"\n",
    "    return config['images'] / image_filename"
   ]
  },
  {
   "cell_type": "markdown",
   "metadata": {},
   "source": [
    "## Dataset Statistics"
   ]
  },
  {
   "cell_type": "code",
   "execution_count": null,
   "metadata": {},
   "outputs": [],
   "source": [
    "def analyze_dataset(data, dataset_key):\n",
    "    \"\"\"Analyze and print dataset statistics\"\"\"\n",
    "    print(f\"\\n{'='*60}\")\n",
    "    print(f\"Dataset: {DATASETS[dataset_key]['description']}\")\n",
    "    print(f\"{'='*60}\")\n",
    "    \n",
    "    # Total samples\n",
    "    print(f\"\\nTotal samples: {len(data)}\")\n",
    "    \n",
    "    # Sample structure\n",
    "    if data:\n",
    "        print(f\"\\nSample keys: {list(data[0].keys())}\")\n",
    "        print(f\"\\nFirst example:\")\n",
    "        for key, value in data[0].items():\n",
    "            if isinstance(value, str) and len(value) > 100:\n",
    "                print(f\"  {key}: {value[:100]}...\")\n",
    "            else:\n",
    "                print(f\"  {key}: {value}\")\n",
    "    \n",
    "    # Analyze questions and answers if they exist\n",
    "    if 'question' in data[0]:\n",
    "        questions = [item.get('question', '') for item in data]\n",
    "        unique_questions = set(questions)\n",
    "        print(f\"\\nUnique questions: {len(unique_questions)}\")\n",
    "        print(\"Question examples:\")\n",
    "        for q in list(unique_questions)[:5]:\n",
    "            print(f\"  - {q}\")\n",
    "    \n",
    "    if 'answer' in data[0]:\n",
    "        answers = [item.get('answer', '') for item in data]\n",
    "        answer_dist = Counter(answers)\n",
    "        print(f\"\\nAnswer distribution:\")\n",
    "        for ans, count in answer_dist.most_common():\n",
    "            print(f\"  {ans}: {count} ({count/len(data)*100:.1f}%)\")\n",
    "    \n",
    "    return data"
   ]
  },
  {
   "cell_type": "code",
   "execution_count": null,
   "metadata": {},
   "outputs": [],
   "source": [
    "# Analyze all datasets\n",
    "for dataset_key in DATASETS.keys():\n",
    "    try:\n",
    "        data, config = load_dataset(dataset_key)\n",
    "        analyze_dataset(data, dataset_key)\n",
    "    except Exception as e:\n",
    "        print(f\"\\nError loading {dataset_key}: {e}\")"
   ]
  },
  {
   "cell_type": "markdown",
   "metadata": {},
   "source": [
    "## Browse Examples"
   ]
  },
  {
   "cell_type": "code",
   "execution_count": null,
   "metadata": {},
   "outputs": [],
   "source": [
    "def display_example(data, config, index):\n",
    "    \"\"\"Display a single example with image and metadata\"\"\"\n",
    "    example = data[index]\n",
    "    \n",
    "    # Create figure\n",
    "    fig, ax = plt.subplots(1, 1, figsize=(10, 8))\n",
    "    \n",
    "    # Load and display image\n",
    "    if 'image' in example:\n",
    "        img_path = get_image_path(config, example['image'])\n",
    "    elif 'image_id' in example:\n",
    "        # Handle different image naming conventions\n",
    "        img_path = get_image_path(config, f\"{example['image_id']}.jpg\")\n",
    "    else:\n",
    "        print(\"No image field found\")\n",
    "        return\n",
    "    \n",
    "    if img_path.exists():\n",
    "        img = Image.open(img_path)\n",
    "        ax.imshow(img)\n",
    "        ax.axis('off')\n",
    "    else:\n",
    "        print(f\"Image not found: {img_path}\")\n",
    "    \n",
    "    # Display metadata\n",
    "    title_parts = []\n",
    "    if 'question' in example:\n",
    "        title_parts.append(f\"Q: {example['question']}\")\n",
    "    if 'answer' in example:\n",
    "        title_parts.append(f\"A: {example['answer']}\")\n",
    "    \n",
    "    plt.title('\\n'.join(title_parts), fontsize=12, pad=20)\n",
    "    \n",
    "    # Print all metadata\n",
    "    print(f\"\\nExample {index + 1}/{len(data)}\")\n",
    "    print(\"-\" * 60)\n",
    "    for key, value in example.items():\n",
    "        if key not in ['image', 'image_id']:  # Already shown\n",
    "            print(f\"{key}: {value}\")\n",
    "    \n",
    "    plt.tight_layout()\n",
    "    plt.show()"
   ]
  },
  {
   "cell_type": "code",
   "execution_count": null,
   "metadata": {},
   "outputs": [],
   "source": [
    "# Interactive browser\n",
    "def create_browser(dataset_key):\n",
    "    \"\"\"Create an interactive browser for a dataset\"\"\"\n",
    "    data, config = load_dataset(dataset_key)\n",
    "    \n",
    "    # Widgets\n",
    "    index_slider = widgets.IntSlider(\n",
    "        value=0,\n",
    "        min=0,\n",
    "        max=len(data)-1,\n",
    "        step=1,\n",
    "        description='Index:',\n",
    "        continuous_update=False\n",
    "    )\n",
    "    \n",
    "    random_button = widgets.Button(description=\"Random Example\")\n",
    "    \n",
    "    output = widgets.Output()\n",
    "    \n",
    "    def on_index_change(change):\n",
    "        with output:\n",
    "            clear_output(wait=True)\n",
    "            display_example(data, config, change['new'])\n",
    "    \n",
    "    def on_random_click(b):\n",
    "        index_slider.value = random.randint(0, len(data)-1)\n",
    "    \n",
    "    index_slider.observe(on_index_change, names='value')\n",
    "    random_button.on_click(on_random_click)\n",
    "    \n",
    "    # Initial display\n",
    "    with output:\n",
    "        display_example(data, config, 0)\n",
    "    \n",
    "    display(widgets.VBox([index_slider, random_button, output]))\n",
    "\n",
    "# Example: Browse a specific dataset\n",
    "print(\"Available datasets:\")\n",
    "for key, config in DATASETS.items():\n",
    "    print(f\"  - {key}: {config['description']}\")\n",
    "\n",
    "print(\"\\nUse: create_browser('dataset_key') to browse\")"
   ]
  },
  {
   "cell_type": "code",
   "execution_count": null,
   "metadata": {},
   "outputs": [],
   "source": [
    "# Browse Visual Genome two objects\n",
    "create_browser('vg_two_obj')"
   ]
  },
  {
   "cell_type": "code",
   "execution_count": null,
   "metadata": {},
   "outputs": [],
   "source": [
    "# Browse COCO two objects\n",
    "create_browser('coco_two_obj')"
   ]
  },
  {
   "cell_type": "code",
   "execution_count": null,
   "metadata": {},
   "outputs": [],
   "source": [
    "# Browse Controlled images\n",
    "create_browser('controlled_images')"
   ]
  },
  {
   "cell_type": "code",
   "execution_count": null,
   "metadata": {},
   "outputs": [],
   "source": [
    "# Browse Controlled CLEVR\n",
    "create_browser('controlled_clevr')"
   ]
  },
  {
   "cell_type": "markdown",
   "metadata": {},
   "source": [
    "## Compare Across Datasets"
   ]
  },
  {
   "cell_type": "code",
   "execution_count": null,
   "metadata": {},
   "outputs": [],
   "source": [
    "def compare_datasets():\n",
    "    \"\"\"Compare statistics across all datasets\"\"\"\n",
    "    fig, axes = plt.subplots(2, 3, figsize=(15, 10))\n",
    "    axes = axes.flatten()\n",
    "    \n",
    "    for idx, (dataset_key, config) in enumerate(DATASETS.items()):\n",
    "        try:\n",
    "            data, _ = load_dataset(dataset_key)\n",
    "            \n",
    "            # Count answers\n",
    "            if 'answer' in data[0]:\n",
    "                answers = [item.get('answer', '') for item in data]\n",
    "                answer_dist = Counter(answers)\n",
    "                \n",
    "                labels = list(answer_dist.keys())\n",
    "                values = list(answer_dist.values())\n",
    "                \n",
    "                axes[idx].bar(labels, values)\n",
    "                axes[idx].set_title(f\"{dataset_key}\\n({len(data)} samples)\", fontsize=10)\n",
    "                axes[idx].set_ylabel('Count')\n",
    "                axes[idx].tick_params(axis='x', rotation=45)\n",
    "        except Exception as e:\n",
    "            axes[idx].text(0.5, 0.5, f\"Error: {e}\", \n",
    "                          ha='center', va='center', transform=axes[idx].transAxes)\n",
    "    \n",
    "    plt.tight_layout()\n",
    "    plt.show()\n",
    "\n",
    "compare_datasets()"
   ]
  },
  {
   "cell_type": "markdown",
   "metadata": {},
   "source": [
    "## Filter and Search"
   ]
  },
  {
   "cell_type": "code",
   "execution_count": null,
   "metadata": {},
   "outputs": [],
   "source": [
    "def search_examples(dataset_key, answer=None, question_contains=None):\n",
    "    \"\"\"Search for specific examples\"\"\"\n",
    "    data, config = load_dataset(dataset_key)\n",
    "    \n",
    "    filtered = data\n",
    "    \n",
    "    if answer:\n",
    "        filtered = [item for item in filtered if item.get('answer') == answer]\n",
    "    \n",
    "    if question_contains:\n",
    "        filtered = [item for item in filtered \n",
    "                   if question_contains.lower() in item.get('question', '').lower()]\n",
    "    \n",
    "    print(f\"Found {len(filtered)} examples\")\n",
    "    \n",
    "    return filtered, config\n",
    "\n",
    "# Example: Find all \"left\" answers in VG dataset\n",
    "# filtered_data, config = search_examples('vg_two_obj', answer='left')\n",
    "# if filtered_data:\n",
    "#     display_example(filtered_data, config, 0)"
   ]
  }
 ],
 "metadata": {
  "kernelspec": {
   "display_name": "Python 3",
   "language": "python",
   "name": "python3"
  },
  "language_info": {
   "codemirror_mode": {
    "name": "ipython",
    "version": 3
   },
   "file_extension": ".py",
   "mimetype": "text/x-python",
   "name": "python",
   "nbconvert_exporter": "python",
   "pygments_lexer": "ipython3",
   "version": "3.8.0"
  }
 },
 "nbformat": 4,
 "nbformat_minor": 4
}
