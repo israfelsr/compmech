{
 "cells": [
  {
   "cell_type": "markdown",
   "metadata": {},
   "source": [
    "# Spatial Relations Dataset Analysis\n",
    "\n",
    "This notebook analyzes the spatial relation datasets stored in HuggingFace format.\n",
    "\n",
    "Datasets:\n",
    "- Visual Genome (one/two objects)\n",
    "- COCO (one/two objects)\n",
    "- Controlled images\n",
    "- Controlled CLEVR\n",
    "\n",
    "Each dataset has:\n",
    "- `image_path`: Path to the image\n",
    "- `captions`: List of captions\n",
    "- `label`: Object label\n",
    "- `spatial_relation`: Spatial relation (top/right/left/bottom/behind)"
   ]
  },
  {
   "cell_type": "code",
   "execution_count": null,
   "metadata": {},
   "outputs": [],
   "source": [
    "import matplotlib.pyplot as plt\n",
    "from PIL import Image\n",
    "import random\n",
    "from pathlib import Path\n",
    "from datasets import load_from_disk\n",
    "from collections import Counter\n",
    "import numpy as np"
   ]
  },
  {
   "cell_type": "markdown",
   "metadata": {},
   "source": [
    "## Configuration"
   ]
  },
  {
   "cell_type": "code",
   "execution_count": null,
   "metadata": {},
   "outputs": [],
   "source": [
    "# Base path\n",
    "BASE_PATH = Path(\"/leonardo_work/EUHPC_D27_102/compmech/whatsup_vlms_data\")\n",
    "HF_PATH = BASE_PATH / \"hf\"\n",
    "\n",
    "# Dataset configurations\n",
    "DATASETS = {\n",
    "    'vg_one_obj': {\n",
    "        'path': HF_PATH / 'vg_one_obj.hf',\n",
    "        'description': 'Visual Genome - One object',\n",
    "        'image_base': BASE_PATH / 'vg_images'\n",
    "    },\n",
    "    'vg_two_obj': {\n",
    "        'path': HF_PATH / 'vg_two_obj.hf',\n",
    "        'description': 'Visual Genome - Two objects',\n",
    "        'image_base': BASE_PATH / 'vg_images'\n",
    "    },\n",
    "    'coco_one_obj': {\n",
    "        'path': HF_PATH / 'coco_one_obj.hf',\n",
    "        'description': 'COCO - One object',\n",
    "        'image_base': BASE_PATH / 'val2017'\n",
    "    },\n",
    "    'coco_two_obj': {\n",
    "        'path': HF_PATH / 'coco_two_obj.hf',\n",
    "        'description': 'COCO - Two objects',\n",
    "        'image_base': BASE_PATH / 'val2017'\n",
    "    },\n",
    "    'controlled_images': {\n",
    "        'path': HF_PATH / 'controlled_images.hf',\n",
    "        'description': 'Controlled images',\n",
    "        'image_base': BASE_PATH / 'controlled_images'\n",
    "    },\n",
    "    'controlled_clevr': {\n",
    "        'path': HF_PATH / 'controlled_clevr.hf',\n",
    "        'description': 'Controlled CLEVR',\n",
    "        'image_base': BASE_PATH / 'controlled_clevr'\n",
    "    }\n",
    "}"
   ]
  },
  {
   "cell_type": "code",
   "execution_count": null,
   "metadata": {},
   "outputs": [],
   "source": [
    "from datasets import load_from_disk\n",
    "\n",
    "dataset = load_from_disk('/leonardo_work/EUHPC_D27_102/compmech/whatsup_vlms_data/hf/controlled_clevr.hf')\n",
    "from collections import Counter\n",
    "Counter([x[0].split(' ')[1] for x in dataset['captions']])"
   ]
  },
  {
   "cell_type": "markdown",
   "metadata": {},
   "source": [
    "## Load Datasets"
   ]
  },
  {
   "cell_type": "code",
   "execution_count": null,
   "metadata": {},
   "outputs": [],
   "source": [
    "# Load all datasets\n",
    "datasets = {}\n",
    "for name, config in DATASETS.items():\n",
    "    try:\n",
    "        datasets[name] = load_from_disk(str(config['path']))\n",
    "        print(f\"Loaded {name}: {len(datasets[name])} samples\")\n",
    "        print(f\"  Features: {datasets[name].features}\")\n",
    "        print()\n",
    "    except Exception as e:\n",
    "        print(f\"Error loading {name}: {e}\")\n",
    "        print()"
   ]
  },
  {
   "cell_type": "markdown",
   "metadata": {},
   "source": [
    "## Spatial Relations Distribution"
   ]
  },
  {
   "cell_type": "code",
   "execution_count": null,
   "metadata": {},
   "outputs": [],
   "source": [
    "# Analyze spatial relations for each dataset\n",
    "spatial_stats = {}\n",
    "\n",
    "for name, dataset in datasets.items():\n",
    "    relations = dataset['spatial_relation']\n",
    "    spatial_stats[name] = Counter(relations)\n",
    "    \n",
    "    print(f\"\\n{DATASETS[name]['description']} ({name})\")\n",
    "    print(f\"Total samples: {len(dataset)}\")\n",
    "    print(f\"Spatial relations:\")\n",
    "    for relation, count in sorted(spatial_stats[name].items()):\n",
    "        print(f\"  {relation:10s}: {count:5d} ({count/len(dataset)*100:5.1f}%)\")"
   ]
  },
  {
   "cell_type": "markdown",
   "metadata": {},
   "source": [
    "## Visualization: Distribution Comparison"
   ]
  },
  {
   "cell_type": "code",
   "execution_count": null,
   "metadata": {},
   "outputs": [],
   "source": [
    "# Plot spatial relation distribution for all datasets\n",
    "fig, axes = plt.subplots(2, 3, figsize=(18, 10))\n",
    "axes = axes.flatten()\n",
    "\n",
    "# Get all unique relations across datasets\n",
    "all_relations = set()\n",
    "for stats in spatial_stats.values():\n",
    "    all_relations.update(stats.keys())\n",
    "all_relations = sorted(list(all_relations))\n",
    "\n",
    "# Color map for relations\n",
    "colors = {\n",
    "    'top': '#FF6B6B',\n",
    "    'bottom': '#4ECDC4',\n",
    "    'left': '#45B7D1',\n",
    "    'right': '#FFA07A',\n",
    "    'behind': '#95E1D3'\n",
    "}\n",
    "\n",
    "for idx, (name, stats) in enumerate(spatial_stats.items()):\n",
    "    ax = axes[idx]\n",
    "    \n",
    "    # Prepare data\n",
    "    relations_list = []\n",
    "    counts = []\n",
    "    bar_colors = []\n",
    "    \n",
    "    for relation in all_relations:\n",
    "        if relation in stats:\n",
    "            relations_list.append(relation)\n",
    "            counts.append(stats[relation])\n",
    "            bar_colors.append(colors.get(relation, '#999999'))\n",
    "    \n",
    "    # Plot\n",
    "    bars = ax.bar(relations_list, counts, color=bar_colors, alpha=0.8, edgecolor='black', linewidth=1.5)\n",
    "    \n",
    "    # Add count labels on bars\n",
    "    for bar in bars:\n",
    "        height = bar.get_height()\n",
    "        ax.text(bar.get_x() + bar.get_width()/2., height,\n",
    "                f'{int(height)}',\n",
    "                ha='center', va='bottom', fontsize=10, fontweight='bold')\n",
    "    \n",
    "    ax.set_title(f\"{DATASETS[name]['description']}\\n({len(datasets[name])} samples)\", \n",
    "                fontsize=11, fontweight='bold', pad=10)\n",
    "    ax.set_ylabel('Count', fontsize=10)\n",
    "    ax.set_xlabel('Spatial Relation', fontsize=10)\n",
    "    ax.grid(axis='y', alpha=0.3, linestyle='--')\n",
    "    ax.set_axisbelow(True)\n",
    "    \n",
    "    # Rotate x labels if needed\n",
    "    ax.tick_params(axis='x', rotation=45, labelsize=9)\n",
    "\n",
    "plt.suptitle('Spatial Relation Distribution Across Datasets', \n",
    "             fontsize=14, fontweight='bold', y=0.995)\n",
    "plt.tight_layout()\n",
    "plt.show()"
   ]
  },
  {
   "cell_type": "markdown",
   "metadata": {},
   "source": [
    "## Summary Statistics Table"
   ]
  },
  {
   "cell_type": "code",
   "execution_count": null,
   "metadata": {},
   "outputs": [],
   "source": [
    "# Create summary table\n",
    "import pandas as pd\n",
    "\n",
    "summary_data = []\n",
    "for name, stats in spatial_stats.items():\n",
    "    row = {\n",
    "        'Dataset': DATASETS[name]['description'],\n",
    "        'Total': len(datasets[name]),\n",
    "    }\n",
    "    for relation in all_relations:\n",
    "        row[relation] = stats.get(relation, 0)\n",
    "    summary_data.append(row)\n",
    "\n",
    "summary_df = pd.DataFrame(summary_data)\n",
    "print(\"\\n\" + \"=\"*80)\n",
    "print(\"SUMMARY: Sample counts by spatial relation\")\n",
    "print(\"=\"*80)\n",
    "print(summary_df.to_string(index=False))\n",
    "print()"
   ]
  },
  {
   "cell_type": "markdown",
   "metadata": {},
   "source": [
    "## Sample Grid Visualization"
   ]
  },
  {
   "cell_type": "code",
   "execution_count": null,
   "metadata": {},
   "outputs": [],
   "source": [
    "def get_image_path(image_path_str, image_base):\n",
    "    \"\"\"Get full path to image\"\"\"\n",
    "    # Handle different path formats\n",
    "    img_path = Path(image_path_str)\n",
    "    \n",
    "    # If it's a relative path starting with 'data/', remove that prefix\n",
    "    if str(img_path).startswith('data/'):\n",
    "        img_path = Path(str(img_path).replace('data/', ''))\n",
    "    \n",
    "    # Try full path first\n",
    "    if img_path.is_absolute() and img_path.exists():\n",
    "        return img_path\n",
    "    \n",
    "    # Try with image_base\n",
    "    full_path = image_base / img_path.name\n",
    "    if full_path.exists():\n",
    "        return full_path\n",
    "    \n",
    "    # Try original path relative to image_base\n",
    "    for part in img_path.parts:\n",
    "        if part in ['vg_images', 'val2017', 'controlled_images', 'controlled_clevr']:\n",
    "            idx = img_path.parts.index(part)\n",
    "            relative_path = Path(*img_path.parts[idx+1:])\n",
    "            full_path = image_base / relative_path\n",
    "            if full_path.exists():\n",
    "                return full_path\n",
    "    \n",
    "    return image_base / img_path.name\n",
    "\n",
    "\n",
    "def display_sample_grid(dataset_name, n_samples=9, figsize=(15, 15), filter_relation=None):\n",
    "    \"\"\"\n",
    "    Display a grid of random samples from a dataset\n",
    "    \n",
    "    Args:\n",
    "        dataset_name: Which dataset to display\n",
    "        n_samples: Number of samples to show (default: 9 for 3x3 grid)\n",
    "        figsize: Figure size tuple\n",
    "        filter_relation: If specified, only show samples with this spatial relation\n",
    "    \"\"\"\n",
    "    dataset = datasets[dataset_name]\n",
    "    config = DATASETS[dataset_name]\n",
    "    \n",
    "    # Filter by relation if specified\n",
    "    if filter_relation:\n",
    "        indices = [i for i, rel in enumerate(dataset['spatial_relation']) if rel == filter_relation]\n",
    "        if not indices:\n",
    "            print(f\"No samples found with relation '{filter_relation}'\")\n",
    "            return\n",
    "        title_suffix = f\" - {filter_relation} only\"\n",
    "    else:\n",
    "        indices = list(range(len(dataset)))\n",
    "        title_suffix = \"\"\n",
    "    \n",
    "    # Calculate grid dimensions\n",
    "    grid_size = int(n_samples ** 0.5)\n",
    "    if grid_size * grid_size < n_samples:\n",
    "        grid_size += 1\n",
    "    \n",
    "    # Sample random indices\n",
    "    sample_indices = random.sample(indices, min(n_samples, len(indices)))\n",
    "    \n",
    "    # Create figure\n",
    "    fig, axes = plt.subplots(grid_size, grid_size, figsize=figsize)\n",
    "    axes = axes.flatten() if n_samples > 1 else [axes]\n",
    "    \n",
    "    for idx, sample_idx in enumerate(sample_indices):\n",
    "        ax = axes[idx]\n",
    "        sample = dataset[sample_idx]\n",
    "        \n",
    "        # Get image path and load\n",
    "        img_path = get_image_path(sample['image_path'], config['image_base'])\n",
    "        \n",
    "        if img_path.exists():\n",
    "            img = Image.open(img_path)\n",
    "            ax.imshow(img)\n",
    "        else:\n",
    "            ax.text(0.5, 0.5, f\"Image\\nnot found\", \n",
    "                    ha='center', va='center', fontsize=8)\n",
    "        \n",
    "        ax.axis('off')\n",
    "        \n",
    "        # Create caption with spatial relation and label\n",
    "        relation = sample['spatial_relation']\n",
    "        label = sample['label']\n",
    "        caption = f\"{relation} - {label}\"\n",
    "        \n",
    "        # Add caption from captions list if available\n",
    "        if sample['captions'] and len(sample['captions']) > 0:\n",
    "            caption_text = sample['captions'][0]\n",
    "            if len(caption_text) > 50:\n",
    "                caption_text = caption_text[:47] + \"...\"\n",
    "            caption = f\"{relation}\\n{caption_text}\"\n",
    "        \n",
    "        ax.set_title(caption, fontsize=7, pad=5, wrap=True, fontweight='bold')\n",
    "    \n",
    "    # Hide unused subplots\n",
    "    for idx in range(len(sample_indices), len(axes)):\n",
    "        axes[idx].axis('off')\n",
    "    \n",
    "    plt.suptitle(f\"{config['description']}{title_suffix}\\n({len(indices)} samples)\", \n",
    "                 fontsize=12, fontweight='bold', y=0.98)\n",
    "    plt.tight_layout()\n",
    "    plt.show()\n",
    "\n",
    "\n",
    "def display_all_dataset_grids(n_samples=9, figsize=(15, 15)):\n",
    "    \"\"\"Display sample grids for all datasets\"\"\"\n",
    "    for dataset_name in datasets.keys():\n",
    "        print(f\"\\n{'='*80}\")\n",
    "        print(f\"Dataset: {dataset_name}\")\n",
    "        print(f\"{'='*80}\")\n",
    "        display_sample_grid(dataset_name, n_samples=n_samples, figsize=figsize)"
   ]
  },
  {
   "cell_type": "markdown",
   "metadata": {},
   "source": [
    "## Display Sample Grids for Individual Datasets"
   ]
  },
  {
   "cell_type": "code",
   "execution_count": null,
   "metadata": {},
   "outputs": [],
   "source": [
    "# Display grid for Visual Genome - one object\n",
    "display_sample_grid('vg_one_obj', n_samples=9)"
   ]
  },
  {
   "cell_type": "code",
   "execution_count": null,
   "metadata": {},
   "outputs": [],
   "source": [
    "# Display grid for COCO - one object\n",
    "display_sample_grid('coco_one_obj', n_samples=9)"
   ]
  },
  {
   "cell_type": "code",
   "execution_count": null,
   "metadata": {},
   "outputs": [],
   "source": [
    "# Display grid for Controlled images\n",
    "display_sample_grid('controlled_images', n_samples=9)"
   ]
  },
  {
   "cell_type": "code",
   "execution_count": null,
   "metadata": {},
   "outputs": [],
   "source": [
    "# Display grid for Controlled CLEVR\n",
    "display_sample_grid('controlled_clevr', n_samples=9)"
   ]
  },
  {
   "cell_type": "markdown",
   "metadata": {},
   "source": [
    "## Display Grids Filtered by Spatial Relation"
   ]
  },
  {
   "cell_type": "code",
   "execution_count": null,
   "metadata": {},
   "outputs": [],
   "source": [
    "# Example: Show only 'left' relations from VG dataset\n",
    "display_sample_grid('vg_one_obj', n_samples=9, filter_relation='left')"
   ]
  },
  {
   "cell_type": "code",
   "execution_count": null,
   "metadata": {},
   "outputs": [],
   "source": [
    "# Example: Show only 'top' relations from COCO dataset\n",
    "display_sample_grid('coco_one_obj', n_samples=9, filter_relation='top')"
   ]
  },
  {
   "cell_type": "markdown",
   "metadata": {},
   "source": [
    "## Display All Dataset Grids"
   ]
  },
  {
   "cell_type": "code",
   "execution_count": null,
   "metadata": {},
   "outputs": [],
   "source": [
    "# Display grids for all datasets at once\n",
    "display_all_dataset_grids(n_samples=9)"
   ]
  },
  {
   "cell_type": "markdown",
   "metadata": {},
   "source": [
    "## Combined Analysis: All Relations Together"
   ]
  },
  {
   "cell_type": "code",
   "execution_count": null,
   "metadata": {},
   "outputs": [],
   "source": [
    "# Stacked bar chart showing all datasets together\n",
    "fig, ax = plt.subplots(figsize=(12, 6))\n",
    "\n",
    "dataset_names = [DATASETS[name]['description'] for name in spatial_stats.keys()]\n",
    "x = np.arange(len(dataset_names))\n",
    "width = 0.15\n",
    "\n",
    "# Plot bars for each relation\n",
    "for i, relation in enumerate(all_relations):\n",
    "    counts = [spatial_stats[name].get(relation, 0) for name in spatial_stats.keys()]\n",
    "    offset = (i - len(all_relations)/2 + 0.5) * width\n",
    "    ax.bar(x + offset, counts, width, label=relation, \n",
    "           color=colors.get(relation, '#999999'), alpha=0.8, edgecolor='black')\n",
    "\n",
    "ax.set_xlabel('Dataset', fontsize=12, fontweight='bold')\n",
    "ax.set_ylabel('Count', fontsize=12, fontweight='bold')\n",
    "ax.set_title('Spatial Relations Comparison Across All Datasets', fontsize=14, fontweight='bold', pad=20)\n",
    "ax.set_xticks(x)\n",
    "ax.set_xticklabels(dataset_names, rotation=45, ha='right')\n",
    "ax.legend(title='Spatial Relation', fontsize=10, title_fontsize=11)\n",
    "ax.grid(axis='y', alpha=0.3, linestyle='--')\n",
    "ax.set_axisbelow(True)\n",
    "\n",
    "plt.tight_layout()\n",
    "plt.show()"
   ]
  },
  {
   "cell_type": "markdown",
   "metadata": {},
   "source": [
    "## Analysis: Filtering Out 'Behind'"
   ]
  },
  {
   "cell_type": "code",
   "execution_count": null,
   "metadata": {},
   "outputs": [],
   "source": [
    "# Show statistics after filtering out 'behind'\n",
    "print(\"\\n\" + \"=\"*80)\n",
    "print(\"IMPACT OF FILTERING OUT 'BEHIND' RELATION\")\n",
    "print(\"=\"*80)\n",
    "\n",
    "for name, stats in spatial_stats.items():\n",
    "    total = sum(stats.values())\n",
    "    behind_count = stats.get('behind', 0)\n",
    "    remaining = total - behind_count\n",
    "    \n",
    "    print(f\"\\n{DATASETS[name]['description']}:\")\n",
    "    print(f\"  Original samples: {total}\")\n",
    "    print(f\"  'Behind' samples: {behind_count} ({behind_count/total*100:.1f}%)\")\n",
    "    print(f\"  Remaining samples: {remaining} ({remaining/total*100:.1f}%)\")\n",
    "    \n",
    "    # Show new distribution\n",
    "    print(f\"  New distribution:\")\n",
    "    for relation, count in sorted(stats.items()):\n",
    "        if relation != 'behind':\n",
    "            print(f\"    {relation:10s}: {count:5d} ({count/remaining*100:5.1f}%)\")"
   ]
  }
 ],
 "metadata": {
  "kernelspec": {
   "display_name": "Python 3",
   "language": "python",
   "name": "python3"
  },
  "language_info": {
   "codemirror_mode": {
    "name": "ipython",
    "version": 3
   },
   "file_extension": ".py",
   "mimetype": "text/x-python",
   "name": "python",
   "nbconvert_exporter": "python",
   "pygments_lexer": "ipython3",
   "version": "3.8.0"
  }
 },
 "nbformat": 4,
 "nbformat_minor": 4
}
